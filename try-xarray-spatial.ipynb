{
 "cells": [
  {
   "cell_type": "markdown",
   "metadata": {},
   "source": [
    "# Trying out xarray-spatial\n",
    "\n",
    "My specific goal is to use xarray-spatial's [zonal statistics function](https://makepath.github.io/xarray-spatial/zonal_statistics.html) to get summary stats for arbitrary regions defined by a raster \"pixel map\", the result of applying a \"subpixel\" orthorectification to GOES-16 and -17 imagery (\"subpixel\" because it resamples the original ~2 km resolution GOES imagery to the same resolution of the input DEM, such as 30 m NED), and then map those summary statistics. "
   ]
  },
  {
   "cell_type": "code",
   "execution_count": 1,
   "metadata": {},
   "outputs": [
    {
     "name": "stderr",
     "output_type": "stream",
     "text": [
      "/home/spestana/opt/anaconda3/envs/goes-linux/lib/python3.6/importlib/_bootstrap.py:219: RuntimeWarning: numpy.ufunc size changed, may indicate binary incompatibility. Expected 192 from C header, got 216 from PyObject\n",
      "  return f(*args, **kwds)\n",
      "/home/spestana/opt/anaconda3/envs/goes-linux/lib/python3.6/importlib/_bootstrap.py:219: RuntimeWarning: numpy.ufunc size changed, may indicate binary incompatibility. Expected 192 from C header, got 216 from PyObject\n",
      "  return f(*args, **kwds)\n"
     ]
    }
   ],
   "source": [
    "import xarray as xr\n",
    "import xrspatial as xrs\n",
    "\n",
    "import numpy as np\n",
    "import pandas as pd\n",
    "\n",
    "import matplotlib.pyplot as plt\n",
    "%matplotlib inline"
   ]
  },
  {
   "cell_type": "markdown",
   "metadata": {},
   "source": [
    "**Defining Zones:**\n",
    "Here I'm creating a grid of 3x3 zones giving each an \"ID\" (xarray-spatial will treach each unique value as a zone, even if the areas with that value aren't contiguous). Note that xarray-spatial will ignore any zones with a 0 value, and all values must be integers."
   ]
  },
  {
   "cell_type": "code",
   "execution_count": 2,
   "metadata": {},
   "outputs": [],
   "source": [
    "zones = np.array([[1, 1, 1, 2, 2, 2, 3, 3, 3],\n",
    "                  [1, 1, 1, 2, 2, 2, 3, 3, 3],\n",
    "                  [1, 1, 1, 2, 2, 2, 3, 3, 3],\n",
    "                  [4, 4, 4, 5, 5, 5, 6, 6, 6], \n",
    "                  [4, 4, 4, 5, 5, 5, 6, 6, 6],\n",
    "                  [4, 4, 4, 5, 5, 5, 6, 6, 6],\n",
    "                  [7, 7, 7, 8, 8, 8, 9, 9, 9],\n",
    "                  [7, 7, 7, 8, 8, 8, 9, 9, 9],\n",
    "                  [7, 7, 7, 8, 8, 8, 9, 9, 9]], dtype=np.integer)\n",
    "zones = xr.DataArray(zones, name='zones')\n",
    "\n",
    "# Here's a 3d case, this should work with any n-dimensions\n",
    "#zones_3d = xr.DataArray([zones,zones,zones,zones,zones,zones,zones,zones,zones], name='zones')"
   ]
  },
  {
   "cell_type": "markdown",
   "metadata": {},
   "source": [
    "**Look at the zones data array**"
   ]
  },
  {
   "cell_type": "code",
   "execution_count": 3,
   "metadata": {},
   "outputs": [
    {
     "data": {
      "text/plain": [
       "<xarray.DataArray 'zones' (dim_0: 9, dim_1: 9)>\n",
       "array([[1, 1, 1, 2, 2, 2, 3, 3, 3],\n",
       "       [1, 1, 1, 2, 2, 2, 3, 3, 3],\n",
       "       [1, 1, 1, 2, 2, 2, 3, 3, 3],\n",
       "       [4, 4, 4, 5, 5, 5, 6, 6, 6],\n",
       "       [4, 4, 4, 5, 5, 5, 6, 6, 6],\n",
       "       [4, 4, 4, 5, 5, 5, 6, 6, 6],\n",
       "       [7, 7, 7, 8, 8, 8, 9, 9, 9],\n",
       "       [7, 7, 7, 8, 8, 8, 9, 9, 9],\n",
       "       [7, 7, 7, 8, 8, 8, 9, 9, 9]])\n",
       "Dimensions without coordinates: dim_0, dim_1"
      ]
     },
     "execution_count": 3,
     "metadata": {},
     "output_type": "execute_result"
    }
   ],
   "source": [
    "zones"
   ]
  },
  {
   "cell_type": "markdown",
   "metadata": {},
   "source": [
    "**Plot the zones data array**"
   ]
  },
  {
   "cell_type": "code",
   "execution_count": 4,
   "metadata": {},
   "outputs": [
    {
     "data": {
      "text/plain": [
       "<matplotlib.collections.QuadMesh at 0x7f00d5f602e8>"
      ]
     },
     "execution_count": 4,
     "metadata": {},
     "output_type": "execute_result"
    },
    {
     "data": {
      "image/png": "[encoded data removed]",
      "text/plain": [
       "<Figure size 432x288 with 2 Axes>"
      ]
     },
     "metadata": {
      "needs_background": "light"
     },
     "output_type": "display_data"
    }
   ],
   "source": [
    "zones.plot()"
   ]
  },
  {
   "cell_type": "markdown",
   "metadata": {},
   "source": [
    "**Create the data array:** (giving it randome values) from which we'll be computing summary stats"
   ]
  },
  {
   "cell_type": "code",
   "execution_count": 5,
   "metadata": {},
   "outputs": [],
   "source": [
    "da = xr.DataArray(np.random.randn(9,9)*100, name='data')\n",
    "\n",
    "# If we want to do a 3d data array\n",
    "#da_3d = xr.DataArray(np.random.randn(9,9,9)*100)"
   ]
  },
  {
   "cell_type": "markdown",
   "metadata": {},
   "source": [
    "**Plot the data array**"
   ]
  },
  {
   "cell_type": "code",
   "execution_count": 6,
   "metadata": {},
   "outputs": [
    {
     "data": {
      "text/plain": [
       "<matplotlib.collections.QuadMesh at 0x7f00d5e60048>"
      ]
     },
     "execution_count": 6,
     "metadata": {},
     "output_type": "execute_result"
    },
    {
     "data": {
      "image/png": "[encoded data removed]",
      "text/plain": [
       "<Figure size 432x288 with 2 Axes>"
      ]
     },
     "metadata": {
      "needs_background": "light"
     },
     "output_type": "display_data"
    }
   ],
   "source": [
    "da.plot()"
   ]
  },
  {
   "cell_type": "markdown",
   "metadata": {},
   "source": [
    "**Compute zonal stats** using the xarray-spatial function:"
   ]
  },
  {
   "cell_type": "code",
   "execution_count": 7,
   "metadata": {},
   "outputs": [],
   "source": [
    "zonalstats = xrs.zonal.stats(zones, da, stat_funcs=['mean', 'max', 'min', 'std', 'var', 'count'])"
   ]
  },
  {
   "cell_type": "markdown",
   "metadata": {},
   "source": [
    "**This returns a pandas dataframe**"
   ]
  },
  {
   "cell_type": "code",
   "execution_count": 8,
   "metadata": {},
   "outputs": [
    {
     "data": {
      "text/html": [
       "<div>\n",
       "<style scoped>\n",
       "    .dataframe tbody tr th:only-of-type {\n",
       "        vertical-align: middle;\n",
       "    }\n",
       "\n",
       "    .dataframe tbody tr th {\n",
       "        vertical-align: top;\n",
       "    }\n",
       "\n",
       "    .dataframe thead th {\n",
       "        text-align: right;\n",
       "    }\n",
       "</style>\n",
       "<table border=\"1\" class=\"dataframe\">\n",
       "  <thead>\n",
       "    <tr style=\"text-align: right;\">\n",
       "      <th></th>\n",
       "      <th>mean</th>\n",
       "      <th>max</th>\n",
       "      <th>min</th>\n",
       "      <th>std</th>\n",
       "      <th>var</th>\n",
       "      <th>count</th>\n",
       "    </tr>\n",
       "  </thead>\n",
       "  <tbody>\n",
       "    <tr>\n",
       "      <th>1</th>\n",
       "      <td>-70.638382</td>\n",
       "      <td>-17.733535</td>\n",
       "      <td>-190.029667</td>\n",
       "      <td>50.135418</td>\n",
       "      <td>2513.560096</td>\n",
       "      <td>9.0</td>\n",
       "    </tr>\n",
       "    <tr>\n",
       "      <th>2</th>\n",
       "      <td>-51.853594</td>\n",
       "      <td>54.467469</td>\n",
       "      <td>-178.573285</td>\n",
       "      <td>70.057280</td>\n",
       "      <td>4908.022449</td>\n",
       "      <td>9.0</td>\n",
       "    </tr>\n",
       "    <tr>\n",
       "      <th>3</th>\n",
       "      <td>-43.875155</td>\n",
       "      <td>237.485906</td>\n",
       "      <td>-163.523251</td>\n",
       "      <td>111.115621</td>\n",
       "      <td>12346.681126</td>\n",
       "      <td>9.0</td>\n",
       "    </tr>\n",
       "    <tr>\n",
       "      <th>4</th>\n",
       "      <td>31.995172</td>\n",
       "      <td>200.422951</td>\n",
       "      <td>-207.760739</td>\n",
       "      <td>107.830338</td>\n",
       "      <td>11627.381882</td>\n",
       "      <td>9.0</td>\n",
       "    </tr>\n",
       "    <tr>\n",
       "      <th>5</th>\n",
       "      <td>31.107852</td>\n",
       "      <td>232.670451</td>\n",
       "      <td>-141.627421</td>\n",
       "      <td>111.268282</td>\n",
       "      <td>12380.630624</td>\n",
       "      <td>9.0</td>\n",
       "    </tr>\n",
       "    <tr>\n",
       "      <th>6</th>\n",
       "      <td>44.747460</td>\n",
       "      <td>178.834389</td>\n",
       "      <td>-83.354562</td>\n",
       "      <td>72.796170</td>\n",
       "      <td>5299.282397</td>\n",
       "      <td>9.0</td>\n",
       "    </tr>\n",
       "    <tr>\n",
       "      <th>7</th>\n",
       "      <td>7.324285</td>\n",
       "      <td>127.954362</td>\n",
       "      <td>-81.721764</td>\n",
       "      <td>69.902561</td>\n",
       "      <td>4886.367979</td>\n",
       "      <td>9.0</td>\n",
       "    </tr>\n",
       "    <tr>\n",
       "      <th>8</th>\n",
       "      <td>-21.374463</td>\n",
       "      <td>70.268474</td>\n",
       "      <td>-171.553452</td>\n",
       "      <td>68.819537</td>\n",
       "      <td>4736.128611</td>\n",
       "      <td>9.0</td>\n",
       "    </tr>\n",
       "    <tr>\n",
       "      <th>9</th>\n",
       "      <td>19.878029</td>\n",
       "      <td>94.040645</td>\n",
       "      <td>-88.144138</td>\n",
       "      <td>58.348267</td>\n",
       "      <td>3404.520234</td>\n",
       "      <td>9.0</td>\n",
       "    </tr>\n",
       "  </tbody>\n",
       "</table>\n",
       "</div>"
      ],
      "text/plain": [
       "        mean         max         min         std           var  count\n",
       "1 -70.638382  -17.733535 -190.029667   50.135418   2513.560096    9.0\n",
       "2 -51.853594   54.467469 -178.573285   70.057280   4908.022449    9.0\n",
       "3 -43.875155  237.485906 -163.523251  111.115621  12346.681126    9.0\n",
       "4  31.995172  200.422951 -207.760739  107.830338  11627.381882    9.0\n",
       "5  31.107852  232.670451 -141.627421  111.268282  12380.630624    9.0\n",
       "6  44.747460  178.834389  -83.354562   72.796170   5299.282397    9.0\n",
       "7   7.324285  127.954362  -81.721764   69.902561   4886.367979    9.0\n",
       "8 -21.374463   70.268474 -171.553452   68.819537   4736.128611    9.0\n",
       "9  19.878029   94.040645  -88.144138   58.348267   3404.520234    9.0"
      ]
     },
     "execution_count": 8,
     "metadata": {},
     "output_type": "execute_result"
    }
   ],
   "source": [
    "zonalstats"
   ]
  },
  {
   "cell_type": "markdown",
   "metadata": {},
   "source": [
    "**Convert to an xarray dataset** I want use this as a sort of \"look up table\" to map the summary stats values back into the original grid"
   ]
  },
  {
   "cell_type": "code",
   "execution_count": 9,
   "metadata": {},
   "outputs": [],
   "source": [
    "zonalstats = xr.Dataset(zonalstats)"
   ]
  },
  {
   "cell_type": "code",
   "execution_count": 10,
   "metadata": {
    "scrolled": true
   },
   "outputs": [
    {
     "data": {
      "text/plain": [
       "<xarray.Dataset>\n",
       "Dimensions:  (dim_0: 9)\n",
       "Coordinates:\n",
       "  * dim_0    (dim_0) int64 1 2 3 4 5 6 7 8 9\n",
       "Data variables:\n",
       "    mean     (dim_0) float64 -70.64 -51.85 -43.88 32.0 ... 7.324 -21.37 19.88\n",
       "    max      (dim_0) float64 -17.73 54.47 237.5 200.4 ... 128.0 70.27 94.04\n",
       "    min      (dim_0) float64 -190.0 -178.6 -163.5 ... -81.72 -171.6 -88.14\n",
       "    std      (dim_0) float64 50.14 70.06 111.1 107.8 111.3 72.8 69.9 68.82 58.35\n",
       "    var      (dim_0) float64 2.514e+03 4.908e+03 ... 4.736e+03 3.405e+03\n",
       "    count    (dim_0) float64 9.0 9.0 9.0 9.0 9.0 9.0 9.0 9.0 9.0"
      ]
     },
     "execution_count": 10,
     "metadata": {},
     "output_type": "execute_result"
    }
   ],
   "source": [
    "zonalstats"
   ]
  },
  {
   "cell_type": "markdown",
   "metadata": {},
   "source": [
    "**Map summary stats back to orignal grid shape with this function** \n",
    "\n",
    "(this is the method I came up with, but there's probably something more clever or simple that accomplishes the same thing)"
   ]
  },
  {
   "cell_type": "code",
   "execution_count": 11,
   "metadata": {},
   "outputs": [],
   "source": [
    "def mapZonalStats(zones, zonalstats, stat_name):\n",
    "\n",
    "    # create an empty array for this summary stat\n",
    "    zonal_stat = np.zeros_like(zones.values)\n",
    "\n",
    "    # for each zone\n",
    "    for zone_n in zonalstats.dim_0.values:\n",
    "        # get the summary stat for that zone, \n",
    "        # and assign it to the correct locations in the zonal_stat array\n",
    "        zonal_stat[zones.values==zone_n] = zonalstats['{}'.format(stat_name)][zone_n-1]\n",
    "\n",
    "    # convert this to an xarray data array with the proper name\n",
    "    zonal_stat_da = xr.DataArray(zonal_stat, name='zonal_{}'.format(stat_name))\n",
    "    \n",
    "    return zonal_stat_da"
   ]
  },
  {
   "cell_type": "markdown",
   "metadata": {},
   "source": [
    "**Apply this function for all our summary stats**"
   ]
  },
  {
   "cell_type": "code",
   "execution_count": 12,
   "metadata": {},
   "outputs": [],
   "source": [
    "zonal_means = mapZonalStats(zones, zonalstats, 'mean')\n",
    "zonal_max = mapZonalStats(zones, zonalstats, 'max')\n",
    "zonal_min = mapZonalStats(zones, zonalstats, 'min')\n",
    "zonal_std = mapZonalStats(zones, zonalstats, 'std')\n",
    "zonal_var = mapZonalStats(zones, zonalstats, 'var')\n",
    "zonal_count = mapZonalStats(zones, zonalstats, 'count')"
   ]
  },
  {
   "cell_type": "markdown",
   "metadata": {},
   "source": [
    "**Combine all data arrays into a single dataset** \n",
    "\n",
    "Merge the original da, zones, and all the zonal stats together"
   ]
  },
  {
   "cell_type": "code",
   "execution_count": 13,
   "metadata": {},
   "outputs": [],
   "source": [
    "ds = xr.merge([da, zones, zonal_means, zonal_max, zonal_min, zonal_std, zonal_var, zonal_count])"
   ]
  },
  {
   "cell_type": "code",
   "execution_count": 14,
   "metadata": {},
   "outputs": [
    {
     "data": {
      "text/plain": [
       "<xarray.Dataset>\n",
       "Dimensions:      (dim_0: 9, dim_1: 9)\n",
       "Dimensions without coordinates: dim_0, dim_1\n",
       "Data variables:\n",
       "    data         (dim_0, dim_1) float64 -57.36 -17.73 -72.85 ... 94.04 16.62\n",
       "    zones        (dim_0, dim_1) int64 1 1 1 2 2 2 3 3 3 1 ... 7 7 7 8 8 8 9 9 9\n",
       "    zonal_mean   (dim_0, dim_1) int64 -70 -70 -70 -51 -51 ... -21 -21 19 19 19\n",
       "    zonal_max    (dim_0, dim_1) int64 -17 -17 -17 54 54 54 ... 70 70 70 94 94 94\n",
       "    zonal_min    (dim_0, dim_1) int64 -190 -190 -190 -178 ... -171 -88 -88 -88\n",
       "    zonal_std    (dim_0, dim_1) int64 50 50 50 70 70 70 ... 68 68 68 58 58 58\n",
       "    zonal_var    (dim_0, dim_1) int64 2513 2513 2513 4908 ... 3404 3404 3404\n",
       "    zonal_count  (dim_0, dim_1) int64 9 9 9 9 9 9 9 9 9 9 ... 9 9 9 9 9 9 9 9 9"
      ]
     },
     "execution_count": 14,
     "metadata": {},
     "output_type": "execute_result"
    }
   ],
   "source": [
    "ds"
   ]
  },
  {
   "cell_type": "markdown",
   "metadata": {},
   "source": [
    "**Now we can plot all these, and they're all on the same grid**\n",
    "\n",
    "Iterate through all eight data variables, plot"
   ]
  },
  {
   "cell_type": "code",
   "execution_count": 15,
   "metadata": {},
   "outputs": [
    {
     "data": {
      "image/png": "[encoded data removed]",
      "text/plain": [
       "<Figure size 1080x432 with 16 Axes>"
      ]
     },
     "metadata": {
      "needs_background": "light"
     },
     "output_type": "display_data"
    }
   ],
   "source": [
    "fig, ax = plt.subplots(nrows=2, ncols=4, figsize=(15,6), tight_layout=True)\n",
    "ax = ax.flatten()\n",
    "\n",
    "for i, data_var in enumerate(ds):\n",
    "    ds[str(data_var)].plot(ax=ax[i])\n",
    "    ax[i].set_title(str(data_var))"
   ]
  },
  {
   "cell_type": "code",
   "execution_count": null,
   "metadata": {},
   "outputs": [],
   "source": []
  }
 ],
 "metadata": {
  "kernelspec": {
   "display_name": "goes-linux",
   "language": "python",
   "name": "goes-linux"
  },
  "language_info": {
   "codemirror_mode": {
    "name": "ipython",
    "version": 3
   },
   "file_extension": ".py",
   "mimetype": "text/x-python",
   "name": "python",
   "nbconvert_exporter": "python",
   "pygments_lexer": "ipython3",
   "version": "3.6.9"
  }
 },
 "nbformat": 4,
 "nbformat_minor": 4
}
